{
 "cells": [
  {
   "cell_type": "code",
   "execution_count": null,
   "id": "1a745970",
   "metadata": {},
   "outputs": [],
   "source": [
    "## Qn 1"
   ]
  },
  {
   "cell_type": "code",
   "execution_count": 1,
   "id": "29b9048a",
   "metadata": {},
   "outputs": [
    {
     "name": "stdout",
     "output_type": "stream",
     "text": [
      "Enter the raduius: 3\n",
      "Area of Circle is 28.273500000000002\n"
     ]
    }
   ],
   "source": [
    "r=float(input(\"Enter the raduius: \"))\n",
    "area=3.1415*(r*r)\n",
    "print(\"Area of Circle is\",area)"
   ]
  },
  {
   "cell_type": "code",
   "execution_count": null,
   "id": "6f9a4ee3",
   "metadata": {},
   "outputs": [],
   "source": [
    "## Alternative"
   ]
  },
  {
   "cell_type": "code",
   "execution_count": 2,
   "id": "5caf0d78",
   "metadata": {},
   "outputs": [
    {
     "name": "stdout",
     "output_type": "stream",
     "text": [
      "Enter the raduius: 3\n",
      "Area of Circle is 28.274333882308138\n"
     ]
    }
   ],
   "source": [
    "r1=float(input(\"Enter the raduius: \"))\n",
    "import math as m\n",
    "area1=m.pi*(r1**2)\n",
    "print(\"Area of Circle is\",area1)"
   ]
  },
  {
   "cell_type": "code",
   "execution_count": null,
   "id": "47de2603",
   "metadata": {},
   "outputs": [],
   "source": [
    "## Qn 2"
   ]
  },
  {
   "cell_type": "code",
   "execution_count": 3,
   "id": "a9da553d",
   "metadata": {},
   "outputs": [
    {
     "name": "stdout",
     "output_type": "stream",
     "text": [
      "Enter the name Anisha\n",
      "Enter the roll number: 21\n",
      "Enter the mark 78\n",
      "Name:  Anisha\n",
      "Roll No:  21\n",
      "Mark:  78\n"
     ]
    }
   ],
   "source": [
    "name = input(\"Enter the name \") \n",
    "roll_no = input(\"Enter the roll number: \")\n",
    "mark = input(\"Enter the mark \") \n",
    "print(\"Name: \", name)\n",
    "print(\"Roll No: \", roll_no) \n",
    "print (\"Mark: \", mark)"
   ]
  },
  {
   "cell_type": "code",
   "execution_count": null,
   "id": "6a3c3a6e",
   "metadata": {},
   "outputs": [],
   "source": [
    "## Qn 3"
   ]
  },
  {
   "cell_type": "code",
   "execution_count": 4,
   "id": "07fb25aa",
   "metadata": {},
   "outputs": [
    {
     "name": "stdout",
     "output_type": "stream",
     "text": [
      "The largest number is:  47\n",
      "The smallest number is:  3\n"
     ]
    }
   ],
   "source": [
    "list1 = [12,3,47,10]\n",
    "list1.sort()\n",
    "print(\"The largest number is: \", list1[-1])\n",
    "print(\"The smallest number is: \", list1[0])"
   ]
  },
  {
   "cell_type": "code",
   "execution_count": null,
   "id": "88fe9170",
   "metadata": {},
   "outputs": [],
   "source": [
    "## ALternative"
   ]
  },
  {
   "cell_type": "code",
   "execution_count": 5,
   "id": "3a69bac8",
   "metadata": {},
   "outputs": [
    {
     "name": "stdout",
     "output_type": "stream",
     "text": [
      "Enter size of list 4\n",
      "Enter element of list 12\n",
      "Enter element of list 3\n",
      "Enter element of list 47\n",
      "Enter element of list 10\n",
      "Largest in  [12, 3, 47, 10] is\n",
      "47\n"
     ]
    }
   ],
   "source": [
    "def largest(list):\n",
    "    large= max(list)\n",
    "    return large\n",
    "\n",
    "#input of list\n",
    "li=[]\n",
    "n=int(input(\"Enter size of list \"))\n",
    "for i in range(0,n):\n",
    "    e=int(input(\"Enter element of list \"))\n",
    "    li.append(e)\n",
    "\n",
    "#largest\n",
    "print(\"Largest in \",li,\"is\")\n",
    "print(largest(li)) "
   ]
  },
  {
   "cell_type": "code",
   "execution_count": null,
   "id": "0bb8720b",
   "metadata": {},
   "outputs": [],
   "source": [
    "## Qn 4"
   ]
  },
  {
   "cell_type": "code",
   "execution_count": 6,
   "id": "09b6c170",
   "metadata": {},
   "outputs": [
    {
     "name": "stdout",
     "output_type": "stream",
     "text": [
      "Current number is:  0\n",
      "Next number is:  1\n",
      "1\n",
      "Current number is:  1\n",
      "Next number is:  2\n",
      "3\n",
      "Current number is:  2\n",
      "Next number is:  3\n",
      "5\n",
      "Current number is:  3\n",
      "Next number is:  4\n",
      "7\n",
      "Current number is:  4\n",
      "Next number is:  5\n",
      "9\n",
      "Current number is:  5\n",
      "Next number is:  6\n",
      "11\n",
      "Current number is:  6\n",
      "Next number is:  7\n",
      "13\n",
      "Current number is:  7\n",
      "Next number is:  8\n",
      "15\n",
      "Current number is:  8\n",
      "Next number is:  9\n",
      "17\n",
      "Current number is:  9\n",
      "Next number is:  10\n",
      "19\n"
     ]
    }
   ],
   "source": [
    "list = [0,1,2,3,4,5,6,7,8,9,10]\n",
    "for i in range (0,10):\n",
    "    print(\"Current number is: \", list[i])\n",
    "    print(\"Next number is: \", list[i+1])\n",
    "    sum=list[i]+list[i+1]\n",
    "    print(sum)"
   ]
  },
  {
   "cell_type": "code",
   "execution_count": null,
   "id": "d753a24b",
   "metadata": {},
   "outputs": [],
   "source": [
    "## Qn 5"
   ]
  },
  {
   "cell_type": "code",
   "execution_count": 7,
   "id": "4087159c",
   "metadata": {},
   "outputs": [
    {
     "name": "stdout",
     "output_type": "stream",
     "text": [
      "Enter the size of the element: 5\n",
      "Enter the number: 10\n",
      "Enter the number: 20\n",
      "Enter the number: 33\n",
      "Enter the number: 46\n",
      "Enter the number: 55\n",
      "[10, 20, 33, 46, 55]\n",
      "10\n",
      "20\n",
      "55\n"
     ]
    }
   ],
   "source": [
    "list1=[]\n",
    "n=int(input(\"Enter the size of the element: \"))\n",
    "for i in range(0,n):\n",
    "    e=int(input(\"Enter the number: \"))\n",
    "    list1.append(e)\n",
    "\n",
    "print(list1)\n",
    "    \n",
    "for num in list1:\n",
    "      if num % 5 == 0:\n",
    "           print(num)"
   ]
  },
  {
   "cell_type": "code",
   "execution_count": null,
   "id": "bc2f1ebd",
   "metadata": {},
   "outputs": [],
   "source": [
    "## Qn 6"
   ]
  },
  {
   "cell_type": "code",
   "execution_count": 8,
   "id": "d54751c9",
   "metadata": {},
   "outputs": [
    {
     "name": "stdout",
     "output_type": "stream",
     "text": [
      "Enter a number: 13\n",
      "13 is a prime number\n"
     ]
    }
   ],
   "source": [
    "num=int(input(\"Enter a number: \"))\n",
    "if num > 1:\n",
    "    # Iterate from 2 to n / 2\n",
    "    for i in range(2, int(num/2)+1):\n",
    "        # If num is divisible by any number between 2 and n / 2, it is not prime\n",
    "        if (num % i) == 0:\n",
    "            print(num, \"is not a prime number\")\n",
    "            break\n",
    "    else:\n",
    "        print(num, \"is a prime number\")\n",
    "else:\n",
    "    print(num, \"is not a prime number\")"
   ]
  },
  {
   "cell_type": "code",
   "execution_count": null,
   "id": "e2034e6e",
   "metadata": {},
   "outputs": [],
   "source": [
    "## Qn 7"
   ]
  },
  {
   "cell_type": "code",
   "execution_count": 9,
   "id": "bf278e66",
   "metadata": {},
   "outputs": [
    {
     "name": "stdout",
     "output_type": "stream",
     "text": [
      "Enter the number of elements: 4\n",
      "10\n",
      "40\n",
      "30\n",
      "70\n",
      "The original list is:  [10, 40, 30, 70]\n",
      "The reversed list is:  [70, 30, 40, 10]\n"
     ]
    }
   ],
   "source": [
    "list2=[]\n",
    "n2=int(input(\"Enter the number of elements: \"))\n",
    "for i in range(0,n2):\n",
    "    ele=int(input())\n",
    "    list2.append(ele)\n",
    "print(\"The original list is: \", list2)\n",
    "list2.reverse()\n",
    "print(\"The reversed list is: \", list2)"
   ]
  },
  {
   "cell_type": "code",
   "execution_count": null,
   "id": "bfa0bfe7",
   "metadata": {},
   "outputs": [],
   "source": [
    "## Alternative"
   ]
  },
  {
   "cell_type": "code",
   "execution_count": 10,
   "id": "1339e698",
   "metadata": {},
   "outputs": [
    {
     "name": "stdout",
     "output_type": "stream",
     "text": [
      "Enter the number of elements: 4\n",
      "10\n",
      "40\n",
      "30\n",
      "70\n",
      "The original list is:  [10, 40, 30, 70]\n",
      "List after reverse :  [70, 30, 40, 10]\n"
     ]
    }
   ],
   "source": [
    "list2=[]\n",
    "n2=int(input(\"Enter the number of elements: \"))\n",
    "for i in range(0,n2):\n",
    "    ele=int(input())\n",
    "    list2.append(ele)\n",
    "print(\"The original list is: \", list2)\n",
    "reversed_list = []\n",
    "for value in list2:\n",
    "  reversed_list = [value] + reversed_list\n",
    "print(\"List after reverse : \", reversed_list)"
   ]
  },
  {
   "cell_type": "code",
   "execution_count": null,
   "id": "46d987cd",
   "metadata": {},
   "outputs": [],
   "source": [
    "## Qn 8"
   ]
  },
  {
   "cell_type": "code",
   "execution_count": 11,
   "id": "4126a94c",
   "metadata": {},
   "outputs": [
    {
     "name": "stdout",
     "output_type": "stream",
     "text": [
      "*\n",
      "**\n",
      "***\n",
      "****\n",
      "*****\n"
     ]
    }
   ],
   "source": [
    "def pypart(r):\n",
    "    pyramid=[]\n",
    "    for i in range (1,r+1):\n",
    "        pyramid.append(\"*\" * i)\n",
    "    print(\"\\n\".join(pyramid))\n",
    "pypart(5)"
   ]
  },
  {
   "cell_type": "code",
   "execution_count": null,
   "id": "24eec271",
   "metadata": {},
   "outputs": [],
   "source": [
    "## Qn 9"
   ]
  },
  {
   "cell_type": "code",
   "execution_count": 12,
   "id": "3198ff7e",
   "metadata": {},
   "outputs": [
    {
     "name": "stdout",
     "output_type": "stream",
     "text": [
      "34\n",
      "12\n",
      "7\n",
      "The largest number is:  34\n"
     ]
    }
   ],
   "source": [
    "numbers=[]\n",
    "for i in range (0,3):\n",
    "    e=int(input())\n",
    "    numbers.append(e)\n",
    "numbers.sort()\n",
    "print(\"The largest number is: \", numbers[-1])"
   ]
  },
  {
   "cell_type": "code",
   "execution_count": 13,
   "id": "e4243832",
   "metadata": {},
   "outputs": [
    {
     "name": "stdout",
     "output_type": "stream",
     "text": [
      "Enter the first number34\n",
      "Enter the seond number12\n",
      "Enter the third number7\n",
      "The largest number is:  34\n"
     ]
    }
   ],
   "source": [
    "## Alternative\n",
    "\n",
    "a=int(input(\"Enter the first number\"))\n",
    "b=int(input(\"Enter the seond number\"))\n",
    "c=int(input(\"Enter the third number\"))\n",
    "if(a>b and a>c):\n",
    "    large=a\n",
    "    print(\"The largest number is: \", a)\n",
    "elif(b>a and b>c):\n",
    "    print(\"The largest number is: \", b)\n",
    "else:\n",
    "    print(\"The largest number is: \", c)"
   ]
  },
  {
   "cell_type": "code",
   "execution_count": null,
   "id": "42f5f74e",
   "metadata": {},
   "outputs": [],
   "source": [
    "## Qn 10"
   ]
  },
  {
   "cell_type": "code",
   "execution_count": 14,
   "id": "c3b57938",
   "metadata": {},
   "outputs": [
    {
     "name": "stdout",
     "output_type": "stream",
     "text": [
      "* \r\n",
      "* * \r\n",
      "* * * \r\n",
      "* * * * \r\n",
      "* * * * * \r\n",
      "* * * * \r\n",
      "* * * \r\n",
      "* * \r\n",
      "* \r\n",
      "\r\n"
     ]
    }
   ],
   "source": [
    "rows = 5\n",
    "for i in range(0, rows):\n",
    "    for j in range(0, i + 1):\n",
    "        print(\"*\", end=' ')\n",
    "    print(\"\\r\")\n",
    "\n",
    "for i in range(rows, 0, -1):\n",
    "    for j in range(0, i - 1):\n",
    "        print(\"*\", end=' ')\n",
    "    print(\"\\r\")"
   ]
  },
  {
   "cell_type": "code",
   "execution_count": null,
   "id": "9edae9b8",
   "metadata": {},
   "outputs": [],
   "source": []
  }
 ],
 "metadata": {
  "kernelspec": {
   "display_name": "Python 3 (ipykernel)",
   "language": "python",
   "name": "python3"
  },
  "language_info": {
   "codemirror_mode": {
    "name": "ipython",
    "version": 3
   },
   "file_extension": ".py",
   "mimetype": "text/x-python",
   "name": "python",
   "nbconvert_exporter": "python",
   "pygments_lexer": "ipython3",
   "version": "3.11.3"
  }
 },
 "nbformat": 4,
 "nbformat_minor": 5
}
